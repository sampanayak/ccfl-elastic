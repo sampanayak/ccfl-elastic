{
 "cells": [
  {
   "cell_type": "code",
   "execution_count": null,
   "metadata": {},
   "outputs": [],
   "source": [
    "# Add date column to all csv files in a folder\n",
    "import pandas as pd\n",
    "import os\n",
    "import glob\n",
    "\n",
    "files = glob.glob('*.csv')\n",
    "\n",
    "for f in files:\n",
    "   df = pd.read_csv(f)\n",
    "   df['Date'] = '02/2016'\n",
    "   #to drop/delete a column\n",
    "   #del df['Date']\n",
    "   df.to_csv(f, sep=',', index=False)"
   ]
  },
  {
   "cell_type": "code",
   "execution_count": 11,
   "metadata": {},
   "outputs": [],
   "source": [
    "# Add date column to individual csv file\n",
    "import pandas as pd\n",
    "import os\n",
    "import glob\n",
    "\n",
    "#files = glob.glob('*.csv')\n",
    "\n",
    "#for f in files:\n",
    "df = pd.read_csv('ActiveClientsbyServiceArea_CountySep.csv')\n",
    "df['Date'] = '09/2017'\n",
    "   #to drop/delete a column\n",
    "   #del df['Date']\n",
    "df.to_csv(\"ActiveClientsbyServiceArea_CountySep.csv\", sep=',', index=False)"
   ]
  },
  {
   "cell_type": "code",
   "execution_count": null,
   "metadata": {},
   "outputs": [],
   "source": []
  }
 ],
 "metadata": {
  "kernelspec": {
   "display_name": "Python 3",
   "language": "python",
   "name": "python3"
  },
  "language_info": {
   "codemirror_mode": {
    "name": "ipython",
    "version": 3
   },
   "file_extension": ".py",
   "mimetype": "text/x-python",
   "name": "python",
   "nbconvert_exporter": "python",
   "pygments_lexer": "ipython3",
   "version": "3.7.1"
  }
 },
 "nbformat": 4,
 "nbformat_minor": 2
}
