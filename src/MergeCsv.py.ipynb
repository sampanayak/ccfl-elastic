{
 "cells": [
  {
   "cell_type": "code",
   "execution_count": 1,
   "metadata": {},
   "outputs": [
    {
     "name": "stdout",
     "output_type": "stream",
     "text": [
      "   Service Area Name        County  # Client     Date\n",
      "0            Central         Adams         7  04/2017\n",
      "1            Central       Buffalo        22  04/2017\n",
      "2            Central          Clay         1  04/2017\n",
      "3            Central      Garfield         1  04/2017\n",
      "4            Central          Hall        15  04/2017\n",
      "5            Central        Harlan         1  04/2017\n",
      "6            Central        Howard         2  04/2017\n",
      "7            Central       Kearney         1  04/2017\n",
      "8            Central      Nuckolls         2  04/2017\n",
      "9            Central        Phelps         1  04/2017\n",
      "10           Central        Valley         2  04/2017\n",
      "11           Central       Webster         1  04/2017\n",
      "12           Eastern       Douglas        60  04/2017\n",
      "13           Eastern         Sarpy        13  04/2017\n",
      "14          Northern         Boone         1  04/2017\n",
      "15          Northern          Boyd         2  04/2017\n",
      "16          Northern        Colfax         2  04/2017\n",
      "17          Northern        Cuming         3  04/2017\n",
      "18          Northern        Dakota         2  04/2017\n",
      "19          Northern         Dixon         1  04/2017\n",
      "20          Northern         Dodge         5  04/2017\n",
      "21          Northern          Holt         2  04/2017\n",
      "22          Northern          Knox         3  04/2017\n",
      "23          Northern       Madison         4  04/2017\n",
      "24          Northern        Pierce         1  04/2017\n",
      "25          Northern        Platte         6  04/2017\n",
      "26          Northern          Rock         1  04/2017\n",
      "27          Northern      Thurston         1  04/2017\n",
      "28          Northern         Wayne         3  04/2017\n",
      "29         Southeast        Butler         1  04/2017\n",
      "..               ...           ...       ...      ...\n",
      "20          Northern         Dodge         5  09/2017\n",
      "21          Northern          Holt         2  09/2017\n",
      "22          Northern          Knox         3  09/2017\n",
      "23          Northern       Madison         4  09/2017\n",
      "24          Northern        Pierce         1  09/2017\n",
      "25          Northern        Platte         6  09/2017\n",
      "26          Northern          Rock         1  09/2017\n",
      "27          Northern      Thurston         1  09/2017\n",
      "28          Northern         Wayne         3  09/2017\n",
      "29         Southeast        Butler         1  09/2017\n",
      "30         Southeast          Cass         5  09/2017\n",
      "31         Southeast          Gage         3  09/2017\n",
      "32         Southeast       Johnson         1  09/2017\n",
      "33         Southeast     Lancaster        51  09/2017\n",
      "34         Southeast        Nemaha         4  09/2017\n",
      "35         Southeast          Polk         1  09/2017\n",
      "36         Southeast      Saunders         3  09/2017\n",
      "37         Southeast        Seward         3  09/2017\n",
      "38         Southeast          York         2  09/2017\n",
      "39         Southwest        Dawson         5  09/2017\n",
      "40         Southwest         Dundy         1  09/2017\n",
      "41         Southwest         Keith         1  09/2017\n",
      "42         Southwest       Lincoln         9  09/2017\n",
      "43         Southwest    Red Willow         4  09/2017\n",
      "44           Western     Box Butte         1  09/2017\n",
      "45           Western      Cheyenne         3  09/2017\n",
      "46           Western         Dawes         4  09/2017\n",
      "47           Western         Deuel         2  09/2017\n",
      "48           Western       Morrill         2  09/2017\n",
      "49           Western  Scotts Bluff         5  09/2017\n",
      "\n",
      "[583 rows x 4 columns]\n"
     ]
    }
   ],
   "source": [
    "import pandas as pd\n",
    "import os\n",
    "import glob\n",
    "\n",
    "files = glob.glob(\"*.csv\")\n",
    "frame = pd.DataFrame()\n",
    "list_ = []\n",
    "\n",
    "for f in files:\n",
    "    df = pd.read_csv(f)\n",
    "    list_.append(df)\n",
    "frame = pd.concat(list_)\n",
    "print(frame)\n",
    "frame.to_csv(\"ActiveClientbyServiceArea2017.csv\", index=False)"
   ]
  },
  {
   "cell_type": "code",
   "execution_count": null,
   "metadata": {},
   "outputs": [],
   "source": []
  }
 ],
 "metadata": {
  "kernelspec": {
   "display_name": "Python 3",
   "language": "python",
   "name": "python3"
  },
  "language_info": {
   "codemirror_mode": {
    "name": "ipython",
    "version": 3
   },
   "file_extension": ".py",
   "mimetype": "text/x-python",
   "name": "python",
   "nbconvert_exporter": "python",
   "pygments_lexer": "ipython3",
   "version": "3.7.1"
  }
 },
 "nbformat": 4,
 "nbformat_minor": 2
}
